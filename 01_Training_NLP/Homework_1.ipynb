{
 "cells": [
  {
   "cell_type": "markdown",
   "metadata": {},
   "source": [
    "#\n",
    "# Imports\n",
    "#"
   ]
  },
  {
   "cell_type": "code",
   "execution_count": 63,
   "metadata": {},
   "outputs": [],
   "source": [
    "import numpy as np\n",
    "from sklearn.datasets import load_digits\n",
    "from sklearn.preprocessing import OneHotEncoder\n",
    "from sklearn.model_selection import train_test_split\n",
    "import matplotlib.pyplot as plt\n",
    "\n",
    "#to counter runntime warning\n",
    "from scipy.special import expit\n",
    "\n",
    "#import tensorflow only for the purpose of checking the loss and aktivation functions\n",
    "import tensorflow as tf\n",
    "tf.compat.v1.enable_eager_execution()\n",
    "#tf.compat.v1.disable_eager_execution()\n"
   ]
  },
  {
   "cell_type": "markdown",
   "metadata": {},
   "source": [
    "#\n",
    "# Loading Data and Data Prep\n",
    "#"
   ]
  },
  {
   "cell_type": "code",
   "execution_count": 64,
   "metadata": {},
   "outputs": [],
   "source": [
    "# Loading our MNIST dataset\n",
    "data = load_digits()\n",
    "X = data['data']\n",
    "y = data['target']\n",
    "\n",
    "# one-hot encoding\n",
    "enc = OneHotEncoder()\n",
    "y = enc.fit_transform(y.reshape(-1,1)).toarray()\n",
    "\n",
    "X = X / np.max(X)\n",
    "# Split data into training and testing sets\n",
    "X_train, X_test, y_train, y_test = train_test_split(X, y, test_size=0.3)"
   ]
  },
  {
   "cell_type": "markdown",
   "metadata": {},
   "source": [
    "#\n",
    "# Data_visulisation \n",
    "#"
   ]
  },
  {
   "cell_type": "code",
   "execution_count": 65,
   "metadata": {},
   "outputs": [],
   "source": [
    "# Function to visualize a specific data point at a given index\n",
    "def data_visualization_index(data, target, index):\n",
    "    # Create a new figure for the plot with an 8x8-inch size\n",
    "    plt.figure(figsize=(8, 8))\n",
    "    \n",
    "    # Display the image of the data point at the specified index, reshaped to 8x8, in grayscale\n",
    "    plt.imshow(data[index].reshape(8, 8), cmap='gray')\n",
    "    \n",
    "    # Set the title of the plot to the corresponding target value\n",
    "    plt.title(target[index])\n",
    "    \n",
    "    # Turn off the axis labels and ticks for a cleaner visualization\n",
    "    plt.axis('off')\n",
    "    \n",
    "    # Show the plot on the screen\n",
    "    plt.show() \n",
    "\n",
    "# Function to visualize the entire dataset as a single image\n",
    "def data_visualization(data, target):\n",
    "    # Create a new figure for the plot with an 8x8-inch size\n",
    "    plt.figure(figsize=(8, 8))\n",
    "    \n",
    "    # Display the entire dataset as a single image, reshaped to 8x8, in grayscale\n",
    "    plt.imshow(data.reshape(8, 8), cmap='gray')\n",
    "    \n",
    "    # Set the title of the plot to the target label (assuming it's a single label for the entire dataset)\n",
    "    plt.title(target)\n",
    "    \n",
    "    # Turn off the axis labels and ticks for a cleaner visualization\n",
    "    plt.axis('off')\n",
    "    \n",
    "    # Show the plot on the screen\n",
    "    plt.show()"
   ]
  },
  {
   "cell_type": "markdown",
   "metadata": {},
   "source": [
    "#\n",
    "# Data_Generator\n",
    "#"
   ]
  },
  {
   "cell_type": "code",
   "execution_count": 66,
   "metadata": {},
   "outputs": [],
   "source": [
    "def data_generator(input_data, target_data, minibatch_size):\n",
    "    # Get the total number of samples in the dataset\n",
    "    num_samples = len(input_data)\n",
    "    \n",
    "    # Create an array of indices corresponding to the samples\n",
    "    indices = np.arange(num_samples)\n",
    "    # Shuffle the indices to randomize the order of samples\n",
    "    np.random.shuffle(indices)\n",
    "\n",
    "    # Iterate over the shuffled indices to yield mini-batches\n",
    "    for start_idx in range(0, num_samples - minibatch_size + 1, minibatch_size):\n",
    "        # Select a subset of indices for the current mini-batch\n",
    "        excerpt = indices[start_idx:start_idx + minibatch_size]\n",
    "        \n",
    "        # Yield the corresponding input and target data for the mini-batch\n",
    "        yield input_data[excerpt], target_data[excerpt]"
   ]
  },
  {
   "cell_type": "markdown",
   "metadata": {},
   "source": [
    "#\n",
    "# Activation functions\n",
    "#"
   ]
  },
  {
   "cell_type": "code",
   "execution_count": 67,
   "metadata": {},
   "outputs": [],
   "source": [
    "class Sigmoid:\n",
    "    def __call__(self, x):\n",
    "        return expit(x)\n",
    "    \n",
    "    def gradient(self,x):\n",
    "        s = self.__call__(x)\n",
    "        return s * (1 - s)\n",
    "\n",
    "    @staticmethod\n",
    "    def test_sigmoid():\n",
    "        # Test the Sigmoid class against TensorFlow\n",
    "        x = np.random.randn(10, 5)\n",
    "    \n",
    "        custom_sigmoid = Sigmoid()\n",
    "        custom_result = custom_sigmoid(x)\n",
    "\n",
    "        tf_sigmoid = tf.keras.activations.sigmoid\n",
    "        tf_result = tf_sigmoid(x)\n",
    "\n",
    "        np.testing.assert_allclose(custom_result, tf_result, rtol=1e-5)\n",
    "\n",
    "        print(\"Sigmoid test passed!\")\n",
    "\n"
   ]
  },
  {
   "cell_type": "code",
   "execution_count": 68,
   "metadata": {},
   "outputs": [],
   "source": [
    "class Softmax:\n",
    "    def __call__(self, x):\n",
    "        exps = np.exp(x - np.max(x, axis=-1, keepdims=True))\n",
    "        return exps / np.sum(exps, axis=-1, keepdims=True)\n",
    "    \n",
    "    def gradient(self,x):\n",
    "        s = self.__call__(x)\n",
    "        return s * (1 - s)\n",
    "    \n",
    "    @staticmethod\n",
    "    def test_softmax():\n",
    "        # Adjust the scale of random input values\n",
    "        x = np.random.randn(10, 5) * 0.1\n",
    "        y_true = tf.keras.utils.to_categorical(np.random.randint(5, size=10), num_classes=5)\n",
    "\n",
    "        custom_softmax = Softmax()\n",
    "        custom_result = custom_softmax(x)\n",
    "\n",
    "        tf_softmax = tf.keras.activations.softmax\n",
    "        tf_x = tf.convert_to_tensor(x, dtype=tf.float32)\n",
    "        tf_result = tf_softmax(tf_x).numpy()\n",
    "\n",
    "        np.testing.assert_allclose(custom_result, tf_result, rtol=1e-5)\n",
    "\n",
    "        with tf.GradientTape() as tape:\n",
    "            tape.watch(tf_x)\n",
    "            tf_result = tf_softmax(tf_x)\n",
    "    \n",
    "        tf_grad = tape.gradient(tf_result, tf_x)\n",
    "\n",
    "        custom_grad = custom_softmax.gradient(custom_result, y_true)\n",
    "\n",
    "        np.testing.assert_allclose(custom_grad, tf_grad.numpy(), rtol=1e-5)\n",
    "\n",
    "        print(\"Softmax test passed!\")"
   ]
  },
  {
   "cell_type": "code",
   "execution_count": 69,
   "metadata": {},
   "outputs": [],
   "source": [
    "class CCE:\n",
    "    def __call__(self, logits, y_true):\n",
    "        y_pred = Softmax()(logits)\n",
    "        loss = -np.sum(y_true * np.log(y_pred + 1e-15), axis=-1)\n",
    "        return np.mean(loss)\n",
    "    \n",
    "    def gradient(self, y_pred, y_true):\n",
    "        grad = y_pred - y_true\n",
    "        return grad\n",
    "    \n",
    "    @staticmethod\n",
    "    def test_cce():\n",
    "        logits = np.random.randn(10, 5)\n",
    "        y_true = tf.keras.utils.to_categorical(np.random.randint(5, size=10), num_classes=5)\n",
    "\n",
    "        custom_cce = CCE()\n",
    "        custom_result = custom_cce(logits, y_true)\n",
    "\n",
    "        tf_cce = tf.keras.losses.CategoricalCrossentropy()\n",
    "        tf_result = tf_cce(y_true, logits)\n",
    "\n",
    "        print(\"Custom CCE loss:\", custom_result)\n",
    "        print(\"TensorFlow CCE loss:\", tf_result.numpy())\n",
    "        np.testing.assert_allclose(custom_result, tf_result, rtol=1e-5)\n",
    "\n",
    "        with tf.GradientTape() as tape:\n",
    "            tape.watch(logits)\n",
    "            tf_result = tf_cce(y_true, logits)\n",
    "            tf_grad = tape.gradient(tf_result, logits)\n",
    "\n",
    "        custom_grad = custom_cce.gradient(logits, y_true)\n",
    "\n",
    "        np.testing.assert_allclose(custom_grad, tf_grad.numpy(), rtol=1e-5)\n",
    "\n",
    "        print(\"CCE test passed!\")"
   ]
  },
  {
   "cell_type": "markdown",
   "metadata": {},
   "source": [
    "#\n",
    "# Test The Sigmoid, Softmax and Crossentropy classes\n",
    "#"
   ]
  },
  {
   "cell_type": "code",
   "execution_count": 70,
   "metadata": {},
   "outputs": [
    {
     "name": "stdout",
     "output_type": "stream",
     "text": [
      "Sigmoid test passed!\n"
     ]
    }
   ],
   "source": [
    "Sigmoid.test_sigmoid()\n",
    "#Softmax.test_softmax()\n",
    "#CCE.test_cce()"
   ]
  },
  {
   "cell_type": "markdown",
   "metadata": {},
   "source": [
    "#\n",
    "# MLP and MLP_Layer class\n",
    "#"
   ]
  },
  {
   "cell_type": "code",
   "execution_count": 71,
   "metadata": {},
   "outputs": [],
   "source": [
    "class MLP_Layer:\n",
    "    def __init__(self, input_size, output_size, activation):\n",
    "        self.input_size = input_size\n",
    "        self.output_size = output_size\n",
    "        self.activation = activation\n",
    "        \n",
    "        # Initialize the weights and biases for the layer\n",
    "        self.weights = np.random.randn(input_size, output_size) * np.sqrt(2 / input_size)\n",
    "        self.biases = np.zeros(output_size)\n",
    "        \n",
    "    def forward(self, inputs):\n",
    "        # Compute the dot product of the inputs and weights, and add the biases\n",
    "        self.inputs = inputs\n",
    "        self.z = np.dot(inputs, self.weights) + self.biases\n",
    "        \n",
    "        # Apply the activation function to the result\n",
    "        self.output = self.activation(self.z)\n",
    "        \n",
    "        return self.output\n",
    "    \n",
    "    def backward(self, dvalues):\n",
    "        # Compute the gradient of the loss with respect to the layer output\n",
    "        self.dvalues = dvalues\n",
    "        \n",
    "        # Compute the gradient of the loss with respect to the layer inputs\n",
    "        self.dz = self.dvalues * self.activation.gradient(self.z)\n",
    "        self.dinputs = np.dot(self.dz, self.weights.T)\n",
    "        \n",
    "        # Compute the gradient of the loss with respect to the layer weights and biases\n",
    "        self.dweights = np.dot(self.inputs.T, self.dz)\n",
    "        self.dbiases = np.sum(self.dz, axis=0)\n",
    "        \n",
    "        return self.dinputs\n"
   ]
  },
  {
   "cell_type": "code",
   "execution_count": 72,
   "metadata": {},
   "outputs": [],
   "source": [
    "class MLP:\n",
    "    def __init__(self, input_size, output_size, hidden_sizes, activations):\n",
    "        self.input_size = input_size\n",
    "        self.output_size = output_size\n",
    "        self.hidden_sizes = hidden_sizes\n",
    "        self.activations = activations\n",
    "        \n",
    "        # Initialize the layers of the MLP\n",
    "        layer_sizes = [input_size] + hidden_sizes + [output_size]\n",
    "        self.layers = []\n",
    "        for i in range(len(layer_sizes) - 1):\n",
    "            layer = MLP_Layer(layer_sizes[i], layer_sizes[i+1], activations[i])\n",
    "            self.layers.append(layer)\n",
    "    \n",
    "    def forward(self, inputs):\n",
    "        # Compute the forward pass through the layers of the MLP\n",
    "        for layer in self.layers:\n",
    "            inputs = layer.forward(inputs)\n",
    "        \n",
    "        # Return the final output of the MLP\n",
    "        return inputs\n",
    "    \n",
    "    def backward(self, dvalues):\n",
    "        # Compute the backward pass through the layers of the MLP\n",
    "        for layer in reversed(self.layers):\n",
    "            dvalues = layer.backward(dvalues)\n",
    "        \n",
    "        # Return the gradient of the loss with respect to the MLP inputs\n",
    "        return dvalues\n",
    "    \n",
    "    def train(self, X_train, y_train, X_test, y_test, epochs, batch_size, learning_rate):\n",
    "        # Initialize lists to store the training and testing losses and accuracies\n",
    "        train_losses = []\n",
    "        train_accuracies = []\n",
    "        test_losses = []\n",
    "        test_accuracies = []\n",
    "        \n",
    "        # Iterate over the specified number of epochs\n",
    "        for epoch in range(epochs):\n",
    "            # Initialize variables to store the total training loss and accuracy for the current epoch\n",
    "            train_loss = 0\n",
    "            train_accuracy = 0\n",
    "            \n",
    "            # Iterate over the mini-batches of training data\n",
    "            for X_batch, y_batch in data_generator(X_train, y_train, batch_size):\n",
    "                # Compute the forward pass through the MLP\n",
    "                y_pred = self.forward(X_batch)\n",
    "                \n",
    "                # Compute the loss and accuracy for the current mini-batch\n",
    "                loss = CCE()(y_pred, y_batch)\n",
    "                train_loss += loss\n",
    "                train_accuracy += np.sum(np.argmax(y_pred, axis=-1) == np.argmax(y_batch, axis=-1))\n",
    "                \n",
    "                # Compute the backward pass through the MLP\n",
    "                grad = CCE().gradient(y_pred, y_batch)\n",
    "                self.backward(grad)\n",
    "                \n",
    "                # Update the weights and biases of the MLP using gradient descent\n",
    "                for layer in self.layers:\n",
    "                    layer.weights -= learning_rate * layer.dweights\n",
    "                    layer.biases -= learning_rate * layer.dbiases\n",
    "            \n",
    "            # Compute the average training loss and accuracy for the current epoch\n",
    "            train_loss /= len(X_train) / batch_size\n",
    "            train_accuracy /= len(X_train)\n",
    "            \n",
    "            # Initialize variables to store the total testing loss and accuracy for the current epoch\n",
    "            test_loss = 0\n",
    "            test_accuracy = 0\n",
    "            \n",
    "            # Iterate over the mini-batches of testing data\n",
    "            for X_batch, y_batch in data_generator(X_test, y_test, batch_size):\n",
    "                # Compute the forward pass through the MLP\n",
    "                y_pred = self.forward(X_batch)\n",
    "                \n",
    "                # Compute the loss and accuracy for the current mini-batch\n",
    "                loss = CCE()(y_pred, y_batch)\n",
    "                test_loss += loss\n",
    "                test_accuracy += np.sum(np.argmax(y_pred, axis=-1) == np.argmax(y_batch, axis=-1))\n",
    "            \n",
    "            # Compute the average testing loss and accuracy for the current epoch\n",
    "            test_loss /= len(X_test) / batch_size\n",
    "            test_accuracy /= len(X_test)\n",
    "            \n",
    "            # Append the training and testing losses and accuracies to their respective lists\n",
    "            train_losses.append(train_loss)\n",
    "            train_accuracies.append(train_accuracy)\n",
    "            test_losses.append(test_loss)\n",
    "            test_accuracies.append(test_accuracy)\n",
    "            \n",
    "            # Print the training and testing losses and accuracies for the current epoch\n",
    "            if (epoch + 1) % 100 == 0:\n",
    "                print(f\"Epoch {epoch+1}/{epochs} - Train Loss: {train_loss:.4f} - Train Accuracy: {train_accuracy:.4f} - Test Loss: {test_loss:.4f} - Test Accuracy: {test_accuracy:.4f}\")\n",
    "        \n",
    "        # Return the training and testing losses and accuracies as numpy arrays\n",
    "        return np.array(train_losses), np.array(train_accuracies), np.array(test_losses), np.array(test_accuracies)\n"
   ]
  },
  {
   "cell_type": "code",
   "execution_count": 73,
   "metadata": {},
   "outputs": [
    {
     "name": "stdout",
     "output_type": "stream",
     "text": [
      "Epoch 100/1000 - Train Loss: 1.8870 - Train Accuracy: 0.7589 - Test Loss: 1.8173 - Test Accuracy: 0.6907\n",
      "Epoch 200/1000 - Train Loss: 1.7453 - Train Accuracy: 0.8099 - Test Loss: 1.7001 - Test Accuracy: 0.7296\n",
      "Epoch 300/1000 - Train Loss: 1.6057 - Train Accuracy: 0.9475 - Test Loss: 1.5626 - Test Accuracy: 0.8704\n",
      "Epoch 400/1000 - Train Loss: 1.5475 - Train Accuracy: 0.9682 - Test Loss: 1.5070 - Test Accuracy: 0.8852\n",
      "Epoch 500/1000 - Train Loss: 1.5196 - Train Accuracy: 0.9825 - Test Loss: 1.4860 - Test Accuracy: 0.8907\n",
      "Epoch 600/1000 - Train Loss: 1.5071 - Train Accuracy: 0.9841 - Test Loss: 1.4745 - Test Accuracy: 0.8963\n",
      "Epoch 700/1000 - Train Loss: 1.4971 - Train Accuracy: 0.9881 - Test Loss: 1.4686 - Test Accuracy: 0.8981\n",
      "Epoch 800/1000 - Train Loss: 1.4912 - Train Accuracy: 0.9889 - Test Loss: 1.4668 - Test Accuracy: 0.8944\n",
      "Epoch 900/1000 - Train Loss: 1.4866 - Train Accuracy: 0.9905 - Test Loss: 1.4622 - Test Accuracy: 0.8926\n",
      "Epoch 1000/1000 - Train Loss: 1.4835 - Train Accuracy: 0.9912 - Test Loss: 1.4625 - Test Accuracy: 0.8944\n"
     ]
    },
    {
     "data": {
      "image/png": "[encoded data removed]",
      "text/plain": [
       "<Figure size 640x480 with 1 Axes>"
      ]
     },
     "metadata": {},
     "output_type": "display_data"
    },
    {
     "data": {
      "image/png": "[encoded data removed]",
      "text/plain": [
       "<Figure size 640x480 with 1 Axes>"
      ]
     },
     "metadata": {},
     "output_type": "display_data"
    },
    {
     "data": {
      "image/png": "[encoded data removed]",
      "text/plain": [
       "<Figure size 800x800 with 1 Axes>"
      ]
     },
     "metadata": {},
     "output_type": "display_data"
    },
    {
     "data": {
      "image/png": "[encoded data removed]",
      "text/plain": [
       "<Figure size 800x800 with 1 Axes>"
      ]
     },
     "metadata": {},
     "output_type": "display_data"
    }
   ],
   "source": [
    "# Define the input size, output size, hidden layer sizes, and activation functions for the MLP\n",
    "input_size = 64\n",
    "output_size = 10\n",
    "hidden_sizes = [32, 16]\n",
    "epochs = 1000\n",
    "batchsize = 32\n",
    "learning_rate = 0.01\n",
    "activations = [Sigmoid(), Sigmoid(), Softmax()]\n",
    "\n",
    "# Create an instance of the MLP class\n",
    "mlp = MLP(input_size, output_size, hidden_sizes, activations)\n",
    "\n",
    "# Train the MLP using the data from the previous cells\n",
    "train_losses, train_accuracies, test_losses, test_accuracies = mlp.train(X_train, y_train, X_test, y_test, epochs, batchsize, learning_rate)\n",
    "\n",
    "# Plot the training and testing losses\n",
    "plt.plot(train_losses, label='Train Loss')\n",
    "plt.plot(test_losses, label='Test Loss')\n",
    "plt.legend()\n",
    "plt.show()\n",
    "\n",
    "# Plot the training and testing accuracies\n",
    "plt.plot(train_accuracies, label='Train Accuracy')\n",
    "plt.plot(test_accuracies, label='Test Accuracy')\n",
    "plt.legend()\n",
    "plt.show()\n",
    "\n",
    "\n",
    "# Function to visualize the predictions of the MLP on a random sample of the testing data\n",
    "y_prediction = mlp.forward(X_test[0:1])\n",
    "y_prediction = np.round(y_prediction, 2)\n",
    "data_visualization_index(X_test, y_test, 0)\n",
    "data_visualization_index(X_test, y_prediction, 0)\n"
   ]
  },
  {
   "cell_type": "code",
   "execution_count": 74,
   "metadata": {},
   "outputs": [
    {
     "name": "stdout",
     "output_type": "stream",
     "text": [
      "[0 6 5]\n"
     ]
    }
   ],
   "source": [
    "x =[3,4,5]\n",
    "X = np.array(x)\n",
    "y=[3, -2, 0]\n",
    "Y = np.array(y)\n",
    "\n",
    "print(X-Y)"
   ]
  }
 ],
 "metadata": {
  "kernelspec": {
   "display_name": "Python 3",
   "language": "python",
   "name": "python3"
  },
  "language_info": {
   "codemirror_mode": {
    "name": "ipython",
    "version": 3
   },
   "file_extension": ".py",
   "mimetype": "text/x-python",
   "name": "python",
   "nbconvert_exporter": "python",
   "pygments_lexer": "ipython3",
   "version": "3.11.5"
  }
 },
 "nbformat": 4,
 "nbformat_minor": 2
}
