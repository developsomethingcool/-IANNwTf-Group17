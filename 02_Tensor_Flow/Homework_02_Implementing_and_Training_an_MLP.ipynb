{
  "nbformat": 4,
  "nbformat_minor": 0,
  "metadata": {
    "colab": {
      "provenance": [],
      "gpuType": "T4"
    },
    "kernelspec": {
      "name": "python3",
      "display_name": "Python 3"
    },
    "language_info": {
      "name": "python"
    },
    "accelerator": "GPU"
  },
  "cells": [
    {
      "cell_type": "code",
      "execution_count": 74,
      "metadata": {
        "id": "-u3RCl2lvLRg"
      },
      "outputs": [],
      "source": [
        "import tensorflow_datasets as tfds\n",
        "import tensorflow as tf\n",
        "import numpy as np\n",
        "import matplotlib.pyplot as plt\n"
      ]
    },
    {
      "cell_type": "code",
      "source": [
        "( train_ds , test_ds ), ds_info = tfds.load('mnist', split =['train','test'], as_supervised=True, with_info=True)"
      ],
      "metadata": {
        "id": "GN13jnRuwTnD"
      },
      "execution_count": 75,
      "outputs": []
    },
    {
      "cell_type": "code",
      "source": [
        "print(ds_info)"
      ],
      "metadata": {
        "colab": {
          "base_uri": "https://localhost:8080/"
        },
        "id": "20-34s5HwX8Z",
        "outputId": "bb05a8bd-85fd-4fa0-b0d3-24aee20f1378"
      },
      "execution_count": 76,
      "outputs": [
        {
          "output_type": "stream",
          "name": "stdout",
          "text": [
            "tfds.core.DatasetInfo(\n",
            "    name='mnist',\n",
            "    full_name='mnist/3.0.1',\n",
            "    description=\"\"\"\n",
            "    The MNIST database of handwritten digits.\n",
            "    \"\"\",\n",
            "    homepage='http://yann.lecun.com/exdb/mnist/',\n",
            "    data_dir='/root/tensorflow_datasets/mnist/3.0.1',\n",
            "    file_format=tfrecord,\n",
            "    download_size=11.06 MiB,\n",
            "    dataset_size=21.00 MiB,\n",
            "    features=FeaturesDict({\n",
            "        'image': Image(shape=(28, 28, 1), dtype=uint8),\n",
            "        'label': ClassLabel(shape=(), dtype=int64, num_classes=10),\n",
            "    }),\n",
            "    supervised_keys=('image', 'label'),\n",
            "    disable_shuffling=False,\n",
            "    splits={\n",
            "        'test': <SplitInfo num_examples=10000, num_shards=1>,\n",
            "        'train': <SplitInfo num_examples=60000, num_shards=1>,\n",
            "    },\n",
            "    citation=\"\"\"@article{lecun2010mnist,\n",
            "      title={MNIST handwritten digit database},\n",
            "      author={LeCun, Yann and Cortes, Corinna and Burges, CJ},\n",
            "      journal={ATT Labs [Online]. Available: http://yann.lecun.com/exdb/mnist},\n",
            "      volume={2},\n",
            "      year={2010}\n",
            "    }\"\"\",\n",
            ")\n"
          ]
        }
      ]
    },
    {
      "cell_type": "code",
      "source": [
        "def prepare_mnist_data(ds):\n",
        "  # Transform the dataset by mapping each element (feature_dict) to a tuple containing the \"image\" and \"label\" components.\n",
        "  #ds = ds.map(lambda feature_dict: (feature_dict[\"image\"], feature_dict[\"label\"]))\n",
        "\n",
        "  # Reshape the images by mapping each element (image, label) to a tuple with the image reshaped to a 1D vector and the label.\n",
        "  ds = ds.map(lambda image, label: (tf.reshape(image, (-1,)), label))\n",
        "\n",
        "  # Scale and normalize the images to the range [-1, 1] by mapping each element (image, label) to a tuple.\n",
        "  # This is done by casting the image to float32 and dividing by 128, then subtracting 1.\n",
        "  ds = ds.map(lambda image, label: ((tf.cast(image, tf.float32)/128)-1, label))\n",
        "\n",
        "  # One-hot encode the labels by mapping each element (image, label) to a tuple where the label is one-hot encoded with depth 10.\n",
        "  ds = ds.map(lambda image, label: (image, tf.one_hot(label, depth=10)))\n",
        "\n",
        "  # Shuffle the dataset with a buffer size of 1024 and batch the shuffled data into batches of size 256.\n",
        "  ds = ds.shuffle(1024).batch(256)\n",
        "\n",
        "  # Prefetch the data to improve performance by overlapping data preprocessing and model execution.\n",
        "  ds = ds.prefetch(4)\n",
        "  return ds"
      ],
      "metadata": {
        "id": "t-Oz8jiEwuoY"
      },
      "execution_count": 77,
      "outputs": []
    },
    {
      "cell_type": "code",
      "source": [
        "train_dataset = train_ds.apply(prepare_mnist_data)\n",
        "test_dataset = test_ds.apply(prepare_mnist_data)"
      ],
      "metadata": {
        "id": "AGLpoXICPYc8"
      },
      "execution_count": 78,
      "outputs": []
    },
    {
      "cell_type": "code",
      "source": [
        "#Define the MLP Model\n",
        "class MLP_Model(tf.keras.Model):\n",
        "  def __init__(self, layer_sizes, output_size=10):\n",
        "    super().__init__()\n",
        "    self.mlp_layers = []\n",
        "\n",
        "    for layer_size in layer_sizes:\n",
        "      new_layer = tf.keras.layers.Dense(units=layer_size, activation=\"sigmoid\")\n",
        "      self.mlp_layers.append(new_layer)\n",
        "    self.output_layer = tf.keras.layers.Dense(units=output_size, activation=\"softmax\")\n",
        "\n",
        "  def call(self, x):\n",
        "    for layer in self.mlp_layers:\n",
        "      x = layer(x)\n",
        "    y = self.output_layer(x)\n",
        "    return y"
      ],
      "metadata": {
        "id": "xuWVHzo7SjGZ"
      },
      "execution_count": 79,
      "outputs": []
    },
    {
      "cell_type": "code",
      "source": [
        "def train_mnist_model(train_ds, model, loss_func, optimizer, num_epochs):\n",
        "  # Initialize lists to store training and test loss and accuracy\n",
        "  train_loss_list = []\n",
        "  train_accuracy_list = []\n",
        "  # Initialize the accuracy metrics\n",
        "  train_accuracy_metric = tf.keras.metrics.Accuracy()\n",
        "\n",
        "  for epoch in range(num_epochs):\n",
        "    # Training\n",
        "    total_train_loss = 0.0\n",
        "    train_accuracy_metric.reset_states()\n",
        "\n",
        "    for inputs, labels in train_ds:\n",
        "        with tf.GradientTape() as tape:\n",
        "            outputs = model(inputs)\n",
        "            train_loss = loss_func(labels, outputs)\n",
        "\n",
        "        gradients = tape.gradient(train_loss, model.trainable_variables)\n",
        "        optimizer.apply_gradients(zip(gradients, model.trainable_variables))\n",
        "\n",
        "        total_train_loss += train_loss.numpy()\n",
        "        train_accuracy_metric.update_state(tf.argmax(labels, axis=1), tf.argmax(outputs, axis=1))\n",
        "\n",
        "    average_train_loss = total_train_loss / len(train_ds)\n",
        "    train_accuracy = train_accuracy_metric.result().numpy()\n",
        "\n",
        "    # Print or log the values\n",
        "    print(f'Epoch {epoch + 1}/{num_epochs}, Train Loss: {average_train_loss:.4f}, Train Accuracy: {train_accuracy:.4f}')\n",
        "\n",
        "\n",
        "    # Store values for plotting\n",
        "    train_loss_list.append(average_train_loss)\n",
        "    train_accuracy_list.append(train_accuracy)\n",
        "\n",
        "  return (train_loss_list, train_accuracy_list)"
      ],
      "metadata": {
        "id": "rtNPRsCCM_RZ"
      },
      "execution_count": 80,
      "outputs": []
    },
    {
      "cell_type": "code",
      "source": [
        "def test_mnist_model(test_ds, model, loss_func, optimizer, num_epochs):\n",
        "  test_loss_list = []\n",
        "  test_accuracy_list = []\n",
        "\n",
        "  # Initialize the accuracy metrics\n",
        "  test_accuracy_metric = tf.keras.metrics.Accuracy()\n",
        "\n",
        "  for epoch in range(num_epochs):\n",
        "    # Testing\n",
        "    total_test_loss = 0.0\n",
        "    test_accuracy_metric.reset_states()\n",
        "\n",
        "    for test_inputs, test_labels in test_ds:\n",
        "        test_outputs = model(test_inputs)\n",
        "        test_loss = loss_func(test_labels, test_outputs)\n",
        "\n",
        "        total_test_loss += test_loss.numpy()\n",
        "        test_accuracy_metric.update_state(tf.argmax(test_labels, axis=1), tf.argmax(test_outputs, axis=1))\n",
        "\n",
        "    average_test_loss = total_test_loss / len(test_ds)\n",
        "    test_accuracy = test_accuracy_metric.result().numpy()\n",
        "\n",
        "    # Print or log the values\n",
        "    print(f'Epoch {epoch + 1}/{num_epochs}, Test Loss: {average_test_loss:.4f}, Test Accuracy: {test_accuracy:.4f}')\n",
        "\n",
        "    # Store values for plotting\n",
        "    test_loss_list.append(average_test_loss)\n",
        "    test_accuracy_list.append(test_accuracy)\n",
        "\n",
        "  return (test_loss_list, test_accuracy_list)\n",
        "\n"
      ],
      "metadata": {
        "id": "UNteLocHP0Sy"
      },
      "execution_count": 81,
      "outputs": []
    },
    {
      "cell_type": "code",
      "source": [
        "def train_test_mnist_model(train_ds, test_ds, model, loss_func, optimizer, num_epochs):\n",
        "  # Initialize lists to store training and test loss and accuracy\n",
        "  train_loss_list = []\n",
        "  train_accuracy_list = []\n",
        "  test_loss_list = []\n",
        "  test_accuracy_list = []\n",
        "\n",
        "  # Initialize the accuracy metrics\n",
        "  train_accuracy_metric = tf.keras.metrics.Accuracy()\n",
        "  test_accuracy_metric = tf.keras.metrics.Accuracy()\n",
        "\n",
        "  # Training loop\n",
        "  num_epochs = 10  # You can adjust this based on your needs\n",
        "\n",
        "  for epoch in range(num_epochs):\n",
        "    # Training\n",
        "    total_train_loss = 0.0\n",
        "    train_accuracy_metric.reset_states()\n",
        "\n",
        "    for inputs, labels in train_ds:\n",
        "        with tf.GradientTape() as tape:\n",
        "            outputs = model(inputs)\n",
        "            train_loss = loss_func(labels, outputs)\n",
        "\n",
        "        gradients = tape.gradient(train_loss, model.trainable_variables)\n",
        "        optimizer.apply_gradients(zip(gradients, model.trainable_variables))\n",
        "\n",
        "        total_train_loss += train_loss.numpy()\n",
        "        train_accuracy_metric.update_state(tf.argmax(labels, axis=1), tf.argmax(outputs, axis=1))\n",
        "\n",
        "    average_train_loss = total_train_loss / len(train_ds)\n",
        "    train_accuracy = train_accuracy_metric.result().numpy()\n",
        "\n",
        "    # Testing\n",
        "    total_test_loss = 0.0\n",
        "    test_accuracy_metric.reset_states()\n",
        "\n",
        "    for test_inputs, test_labels in test_ds:\n",
        "        test_outputs = model(test_inputs)\n",
        "        test_loss = loss_func(test_labels, test_outputs)\n",
        "\n",
        "        total_test_loss += test_loss.numpy()\n",
        "        test_accuracy_metric.update_state(tf.argmax(test_labels, axis=1), tf.argmax(test_outputs, axis=1))\n",
        "\n",
        "    average_test_loss = total_test_loss / len(test_ds)\n",
        "    test_accuracy = test_accuracy_metric.result().numpy()\n",
        "\n",
        "    # Print or log the values\n",
        "    print(f'Epoch {epoch + 1}/{num_epochs}, Train Loss: {average_train_loss:.4f}, Train Accuracy: {train_accuracy:.4f}, Test Loss: {average_test_loss:.4f}, Test Accuracy: {test_accuracy:.4f}')\n",
        "\n",
        "    # Store values for plotting\n",
        "    train_loss_list.append(average_train_loss)\n",
        "    train_accuracy_list.append(train_accuracy)\n",
        "    test_loss_list.append(average_test_loss)\n",
        "    test_accuracy_list.append(test_accuracy)\n",
        "\n",
        "  return (train_loss_list, train_accuracy_list, test_loss_list, test_accuracy_list)\n",
        ""
      ],
      "metadata": {
        "id": "pY1bbTJkUlb6"
      },
      "execution_count": 82,
      "outputs": []
    },
    {
      "cell_type": "code",
      "source": [
        "model = MLP_Model([256,256])\n",
        "cce = tf.keras.losses.CategoricalCrossentropy()\n",
        "optimizer = tf.keras.optimizers.legacy.SGD(learning_rate=0.1)\n",
        "ds = train_dataset\n",
        "test_ds = test_dataset\n",
        "num_epochs = 8\n",
        "\n",
        "(train_loss_list, train_accuracy_list, test_loss_list, test_accuracy_list) = train_test_mnist_model(train_dataset, test_dataset, model, cce, optimizer, num_epochs)\n",
        "\n"
      ],
      "metadata": {
        "id": "o7bXYQJhZVcw",
        "colab": {
          "base_uri": "https://localhost:8080/"
        },
        "outputId": "74e81757-f116-4fcb-c875-22316a24eb0f"
      },
      "execution_count": 83,
      "outputs": [
        {
          "output_type": "stream",
          "name": "stdout",
          "text": [
            "Epoch 1/10, Train Loss: 1.6731, Train Accuracy: 0.5601, Test Loss: 0.9651, Test Accuracy: 0.7552\n",
            "Epoch 2/10, Train Loss: 0.6971, Train Accuracy: 0.8354, Test Loss: 0.5383, Test Accuracy: 0.8683\n",
            "Epoch 3/10, Train Loss: 0.4734, Train Accuracy: 0.8757, Test Loss: 0.4075, Test Accuracy: 0.8865\n",
            "Epoch 4/10, Train Loss: 0.3969, Train Accuracy: 0.8905, Test Loss: 0.3601, Test Accuracy: 0.8987\n",
            "Epoch 5/10, Train Loss: 0.3582, Train Accuracy: 0.8990, Test Loss: 0.3383, Test Accuracy: 0.9001\n",
            "Epoch 6/10, Train Loss: 0.3337, Train Accuracy: 0.9044, Test Loss: 0.3107, Test Accuracy: 0.9092\n",
            "Epoch 7/10, Train Loss: 0.3153, Train Accuracy: 0.9089, Test Loss: 0.2925, Test Accuracy: 0.9138\n",
            "Epoch 8/10, Train Loss: 0.3005, Train Accuracy: 0.9130, Test Loss: 0.2853, Test Accuracy: 0.9169\n",
            "Epoch 9/10, Train Loss: 0.2882, Train Accuracy: 0.9164, Test Loss: 0.2843, Test Accuracy: 0.9151\n",
            "Epoch 10/10, Train Loss: 0.2773, Train Accuracy: 0.9199, Test Loss: 0.2632, Test Accuracy: 0.9221\n"
          ]
        }
      ]
    },
    {
      "cell_type": "code",
      "source": [
        "def visualization(train_losses, train_accuracies, test_losses, test_accuracies):\n",
        "    \"\"\"Visualizes accuracy and loss for training and test data using\n",
        "    the mean of each epoch.\n",
        "    Loss is displayed in a regular line, accuracy in a dotted\n",
        "    line.\n",
        "    Training data is displayed in blue, test data in red.\n",
        "    Parameters\n",
        "    ----------\n",
        "    train_losses : numpy.ndarray\n",
        "    training losses\n",
        "    train_accuracies : numpy.ndarray\n",
        "    training accuracies\n",
        "    test_losses : numpy.ndarray\n",
        "    test losses\n",
        "    test_accuracies : numpy.ndarray\n",
        "    test accuracies\n",
        "    \"\"\"\n",
        "    plt.figure()\n",
        "    line1, = plt.plot(train_losses, \"b-\")\n",
        "    line2, = plt.plot(test_losses, \"r-\")\n",
        "    line3, = plt.plot(train_accuracies, \"b:\")\n",
        "    line4, = plt.plot(test_accuracies, \"r:\")\n",
        "    plt.xlabel(\"Training steps\")\n",
        "    plt.ylabel(\"Loss / Accuracy\")\n",
        "    plt.legend((line1, line2, line3, line4), (\"training loss\", \"test loss\", \"train accuracy\", \"test accuracy\"))\n",
        "    plt.show()"
      ],
      "metadata": {
        "id": "-AwtDIAsLnhc"
      },
      "execution_count": 84,
      "outputs": []
    },
    {
      "cell_type": "code",
      "source": [
        "visualization(train_loss_list, train_accuracy_list, test_loss_list, test_accuracy_list)"
      ],
      "metadata": {
        "colab": {
          "base_uri": "https://localhost:8080/",
          "height": 449
        },
        "id": "tUKiaIbuSpCP",
        "outputId": "4471a8a0-664d-4f29-b6b4-875ad88abdb5"
      },
      "execution_count": 85,
      "outputs": [
        {
          "output_type": "display_data",
          "data": {
            "text/plain": [
              "<Figure size 640x480 with 1 Axes>"
            ],
            "image/png": "[encoded data removed]"
          },
          "metadata": {}
        }
      ]
    },
    {
      "cell_type": "code",
      "source": [],
      "metadata": {
        "id": "trLErRV9S-P1"
      },
      "execution_count": 85,
      "outputs": []
    }
  ]
}